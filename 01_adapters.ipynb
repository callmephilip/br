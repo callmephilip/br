{
 "cells": [
  {
   "cell_type": "markdown",
   "metadata": {},
   "source": [
    "# adapters\n",
    "\n",
    "> various API adapters for the core breakfast roll service"
   ]
  },
  {
   "cell_type": "code",
   "execution_count": null,
   "metadata": {},
   "outputs": [],
   "source": [
    "#| default_exp adapters"
   ]
  },
  {
   "cell_type": "code",
   "execution_count": null,
   "metadata": {},
   "outputs": [],
   "source": [
    "#| export\n",
    "\n",
    "from starlette.applications import Starlette\n",
    "from starlette.responses import JSONResponse\n",
    "from starlette.routing import Route\n",
    "from starlette.responses import HTMLResponse\n",
    "from starlette.testclient import TestClient\n",
    "from br.core import generate_image"
   ]
  },
  {
   "cell_type": "code",
   "execution_count": null,
   "metadata": {},
   "outputs": [],
   "source": [
    "#| export \n",
    "\n",
    "async def index(request): return JSONResponse({'url': generate_image()})\n",
    "\n",
    "br_starlette = Starlette(debug=True, routes=[Route('/', index)])"
   ]
  },
  {
   "cell_type": "markdown",
   "metadata": {},
   "source": [
    "#### Tests"
   ]
  },
  {
   "cell_type": "code",
   "execution_count": null,
   "metadata": {},
   "outputs": [],
   "source": [
    "client = TestClient(br_starlette)\n",
    "response = client.get('/')\n",
    "assert response.status_code == 200"
   ]
  }
 ],
 "metadata": {
  "kernelspec": {
   "display_name": "python3",
   "language": "python",
   "name": "python3"
  }
 },
 "nbformat": 4,
 "nbformat_minor": 2
}
